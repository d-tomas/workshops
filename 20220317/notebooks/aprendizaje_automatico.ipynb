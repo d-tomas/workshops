{
  "nbformat": 4,
  "nbformat_minor": 0,
  "metadata": {
    "colab": {
      "name": "aprendizaje_automatico.ipynb",
      "provenance": [],
      "collapsed_sections": [],
      "toc_visible": true,
      "authorship_tag": "ABX9TyM2qF/mRradVr5iZ1oLlyWS",
      "include_colab_link": true
    },
    "kernelspec": {
      "name": "python3",
      "display_name": "Python 3"
    }
  },
  "cells": [
    {
      "cell_type": "markdown",
      "metadata": {
        "id": "view-in-github",
        "colab_type": "text"
      },
      "source": [
        "<a href=\"https://colab.research.google.com/github/d-tomas/workshops/blob/main/20220317/notebooks/aprendizaje_automatico.ipynb\" target=\"_parent\"><img src=\"https://colab.research.google.com/assets/colab-badge.svg\" alt=\"Open In Colab\"/></a>"
      ]
    },
    {
      "cell_type": "markdown",
      "metadata": {
        "id": "Zb7zwTnwWull"
      },
      "source": [
        "# Aprendizaje automático"
      ]
    },
    {
      "cell_type": "markdown",
      "metadata": {
        "id": "eW_SQE9SWyI2"
      },
      "source": [
        "En este *notebook* vamos a desarrollar un sistema para análisis de sentimientos (*clasificación*), otro para predecir el precio de una casa (*regresión*) y también un algoritmo de agrupamiento (*clustering*)."
      ]
    },
    {
      "cell_type": "markdown",
      "metadata": {
        "id": "NPWkXN6QWhWH"
      },
      "source": [
        "## Pasos previos"
      ]
    },
    {
      "cell_type": "code",
      "metadata": {
        "id": "auwEJKn0Xf1a"
      },
      "source": [
        "# Librerías\n",
        "\n",
        "import matplotlib.pyplot as plt  # Para hacer gráficas\n",
        "import numpy as np  # Obtener valores únicos en un vector\n",
        "import pandas as pd\n",
        "from sklearn.metrics import accuracy_score  # Calcular la precisión del clasificador\n",
        "from sklearn.model_selection import train_test_split  # Separar el dataset en entrenamiento y test\n",
        "from sklearn.metrics import confusion_matrix  # Sacar la matriz de confusión\n",
        "from sklearn.metrics import mean_absolute_error  # Mean Absolut Error (MAE) para regresión\n",
        "from sklearn.svm import SVC  # Algoritmo Support Vector Machines\n",
        "from sklearn.tree import DecisionTreeClassifier  # Algoritmo Decission tree\n",
        "from sklearn.naive_bayes import MultinomialNB  # Algoritmo Naïve Bayes\n",
        "from sklearn.neural_network import MLPClassifier  # Algoritmo Neural Networks\n",
        "from sklearn.neighbors import KNeighborsClassifier  # Algoritmo k-NN\n",
        "from sklearn.feature_extraction.text import TfidfVectorizer  # Matriz de términos por documento con TF-IDF\n",
        "from xgboost import XGBRegressor  # Algoritmo de regresión XGBoost\n",
        "from sklearn.cluster import KMeans  # Algoritmo de clustering K-means\n",
        "import seaborn as sns  # Visualización del mapa de calor\n",
        "\n",
        "# Descargamos el corpus para entrenar y evaluar el sistema de clasificación\n",
        "!wget https://raw.githubusercontent.com/d-tomas/workshops/main/20220317/datasets/cell_phones.csv\n",
        "# Descargamos el corpus para entrenar y evaluar el sistema de regresión\n",
        "!wget https://raw.githubusercontent.com/d-tomas/workshops/main/20220317/datasets/houses.csv\n",
        "# Descargamos el corpus para probar el algoritmo de clustering\n",
        "!wget https://raw.githubusercontent.com/d-tomas/workshops/main/20220317/datasets/iris.csv"
      ],
      "execution_count": null,
      "outputs": []
    },
    {
      "cell_type": "markdown",
      "metadata": {
        "id": "eNT29Vs8SJBO"
      },
      "source": [
        "## Clasificación"
      ]
    },
    {
      "cell_type": "markdown",
      "metadata": {
        "id": "o_rlmgBwVMTo"
      },
      "source": [
        "Vamos a contruir un sistema de **análisis de sentimientos**. Vamos a entrenar el sistema con un *dataset* que consta de 1000 opiniones sobre teléfonos móbiles en inglés, 500 positivas (etiquetadas como `POS`) y 500 negativas (etiquetadas como `NEG`).\n",
        "\n"
      ]
    },
    {
      "cell_type": "code",
      "metadata": {
        "id": "Fkcjx1LcWg1h"
      },
      "source": [
        "# Vemos que pinta tiene el corpus de entrenamiento\n",
        "\n",
        "!head cell_phones.csv"
      ],
      "execution_count": null,
      "outputs": []
    },
    {
      "cell_type": "code",
      "metadata": {
        "id": "Bg9ZxkG-Vhg-"
      },
      "source": [
        "# Cargamos los datos para clasificación\n",
        "\n",
        "data_classification = pd.read_csv('cell_phones.csv')\n",
        "data_classification"
      ],
      "execution_count": null,
      "outputs": []
    },
    {
      "cell_type": "code",
      "metadata": {
        "id": "wyZKgBwgVwrP"
      },
      "source": [
        "# Crear el clasificador para el análisis de sentimientos\n",
        "\n",
        "corpus = data_classification['content'].values  # Guardamos los mensajes\n",
        "y = data_classification['opinion'].values  # Guardamos las opiniones\n",
        "\n",
        "# Tenemos que transformar las palabras en números\n",
        "# Cada palabra del mensaje se representa por su TF-IDF\n",
        "vectorizer = TfidfVectorizer()\n",
        "X = vectorizer.fit_transform(corpus)\n",
        "\n",
        "# Separamos el corpus en entrenamiento (80%) y test (20%)\n",
        "X_train, X_test, y_train, y_test = train_test_split(X, y, test_size=0.2, random_state=1)\n",
        "\n",
        "# Usamos SVM como algoritmo para la clasificaión\n",
        "model = SVC(kernel = 'linear')\n",
        "\n",
        "# Puedes probar otros modelos. Descomenta el que quieras usar\n",
        "# model = DecisionTreeClassifier()  # Decission tree\n",
        "# model = KNeighborsClassifier()  # k-NN\n",
        "# model = MLPClassifier()  # Neural network\n",
        "# model = MultinomialNB()  # Naïve Bayes\n",
        "\n",
        "# Entrenamos el modelo\n",
        "model.fit(X_train, y_train)\n",
        "\n",
        "# Hacemos la predicción sobre todo el conjunto de test\n",
        "predictions = model.predict(X_test)\n",
        "\n",
        "# Calculamos la precisión del algoritmo\n",
        "print('Precisión: {:.2%}\\n'.format(accuracy_score(predictions, y_test)))\n",
        "print('Matriz de confusión:')\n",
        "\n",
        "plt.figure(figsize=(8, 6))\n",
        "sns.heatmap(confusion_matrix(y_test, predictions), annot=True, linewidth=3)\n",
        "plt.yticks(rotation=0)\n",
        "plt.show()\n"
      ],
      "execution_count": null,
      "outputs": []
    },
    {
      "cell_type": "code",
      "metadata": {
        "id": "iCqlrje0dA15"
      },
      "source": [
        "# Si queremos probar el modelo con una nueva entrada\n",
        "\n",
        "new_input = ['I love this phone!!']\n",
        "# Tenemos que transformar el texto a números, como se hizo al entrenar\n",
        "new_input = vectorizer.transform(new_input)\n",
        "model.predict(new_input)  # Predecimos la etiqueta para la nueva entrada (POS o NEG)"
      ],
      "execution_count": null,
      "outputs": []
    },
    {
      "cell_type": "markdown",
      "metadata": {
        "id": "XK1sr5JOVEKe"
      },
      "source": [
        "## Regresión"
      ]
    },
    {
      "cell_type": "markdown",
      "metadata": {
        "id": "E6dZiX9bcty6"
      },
      "source": [
        "Vamos a contruir un sistema para **predecir precios de casas**. Vamos a entrenar el sistema con un *dataset* que consta de 1460 ejemplos de casas, con 80 características para cada una y su precio de venta."
      ]
    },
    {
      "cell_type": "code",
      "metadata": {
        "id": "PHkou6SOhrav"
      },
      "source": [
        "# Cargamos los datos para regresión\n",
        "\n",
        "data_regression = pd.read_csv('houses.csv')\n",
        "data_regression"
      ],
      "execution_count": null,
      "outputs": []
    },
    {
      "cell_type": "code",
      "metadata": {
        "id": "Bwv_SjnHhwQi"
      },
      "source": [
        "# Mostramos información de las distintas columnas y sus tipos de datos\n",
        "\n",
        "data_regression.info()"
      ],
      "execution_count": null,
      "outputs": []
    },
    {
      "cell_type": "code",
      "metadata": {
        "id": "wIwMAGBzVIFy"
      },
      "source": [
        "# Construimos el modelo de regresión\n",
        "\n",
        "y = data_regression['SalePrice']  # Objetivo a predecir (el precio de las casas)\n",
        "X = data_regression.drop(labels='SalePrice', axis=1)  # Todas las características de cada casa (menos su precio)\n",
        "\n",
        "# Las variables categoriales (las que no contienen números) deben convertirse a números\n",
        "# Usamos la técnica 'one-hot-encoding'\n",
        "X = pd.get_dummies(X)\n",
        "\n",
        "# Creamos los conjuntos de entrenamiento (80%) y test (20%)\n",
        "X_train, X_test, y_train, y_test = train_test_split(X, y, test_size=0.2, random_state=1)\n",
        "\n",
        "# Creamos el modelo pasándole algunos parámetros para ajustarlo y mejorar el rendimiento\n",
        "model = XGBRegressor(colsample_bytree=0.6, learning_rate=0.015, max_depth=4, min_child_weight=3, n_estimators=3000, subsample=0.75, random_state=1)\n",
        "model.fit(X_train, y_train)  # Entrenamos el modelo\n",
        "\n",
        "# Hacemos la predicción sobre el conjunto de test\n",
        "predictions = model.predict(X_test)\n",
        "\n",
        "# Calculamos la precisión del algoritmo (MAE)\n",
        "# Cuanto más pequeño sea este valor mejor\n",
        "print(\"MAE: {:,.0f}\".format(mean_absolute_error(predictions, y_test)))"
      ],
      "execution_count": null,
      "outputs": []
    },
    {
      "cell_type": "markdown",
      "metadata": {
        "id": "MAZQMOhWVWhG"
      },
      "source": [
        "## Clustering"
      ]
    },
    {
      "cell_type": "markdown",
      "metadata": {
        "id": "kMdi5UT6d0p1"
      },
      "source": [
        "Vamos a realizar un ejercicio de agrupamiento sobre un *dataset* de plantas que consta de 150 muestras, con 4 características para cada una de ellas. Como conocemos la especie de cada una, vamos a poder visualizar si los clusters generados concuerdan con la especie a la que pertenece cada muestra."
      ]
    },
    {
      "cell_type": "code",
      "metadata": {
        "id": "ajdQLIx9VWGa"
      },
      "source": [
        "# Cargamos los datos para el clustering\n",
        "\n",
        "data_clustering = pd.read_csv('iris.csv')\n",
        "data_clustering"
      ],
      "execution_count": null,
      "outputs": []
    },
    {
      "cell_type": "code",
      "metadata": {
        "id": "LpaHmonc4d2m"
      },
      "source": [
        "# Mostramos la información del DataFrame\n",
        "\n",
        "data_clustering.info()"
      ],
      "execution_count": null,
      "outputs": []
    },
    {
      "cell_type": "code",
      "metadata": {
        "id": "bq0GA1UI4oq6"
      },
      "source": [
        "# Mostramos la frecuencia de cada una de las clases\n",
        "\n",
        "data_clustering['species'].value_counts()"
      ],
      "execution_count": null,
      "outputs": []
    },
    {
      "cell_type": "code",
      "metadata": {
        "id": "4MfB_F1Q5qPR"
      },
      "source": [
        "# Distribución de cada clase en función de cada una de las características\n",
        "\n",
        "sns.kdeplot(data = data_clustering, x='sepal_length', hue='species')\n",
        "plt.show()\n",
        "sns.kdeplot(data = data_clustering, x='sepal_width', hue='species')\n",
        "plt.show()\n",
        "sns.kdeplot(data = data_clustering, x='petal_length', hue='species')\n",
        "plt.show()\n",
        "sns.kdeplot(data = data_clustering, x='petal_width', hue='species')\n",
        "plt.show()"
      ],
      "execution_count": null,
      "outputs": []
    },
    {
      "cell_type": "code",
      "metadata": {
        "id": "EarhRauRnqqV"
      },
      "source": [
        "# Buscamos el número óptimo de clusters para aplicar k-means\n",
        "\n",
        "wcss = []  # Within cluster sum of squares (WCSS)\n",
        "X = data_clustering.drop('species', axis=1).values  # Eliminamos la columna que representa la clase\n",
        "\n",
        "for i in range(1, 11):\n",
        "  kmeans = KMeans(n_clusters=i, random_state=0)\n",
        "  kmeans.fit(X)\n",
        "  wcss.append(kmeans.inertia_)  # intertia_ -> Suma de las distancias al cuadrado de las muestras con respecto a su centroide más cercano"
      ],
      "execution_count": null,
      "outputs": []
    },
    {
      "cell_type": "code",
      "metadata": {
        "id": "pQeqvS4JXvjg"
      },
      "source": [
        "# Usamos el método del codo para determinar el número óptimo de clusters para aplicar k-means\n",
        "# El número óptimo es donde tiene lugar el codo\n",
        "# Esto ocurre cuando el WCSS no desciende significativamente en cada iteración\n",
        "\n",
        "sns.lineplot(x=range(1, 11), y=wcss)\n",
        "plt.title('Método del codo')\n",
        "plt.xlabel('Número de clusters')\n",
        "plt.ylabel('WCSS')\n",
        "plt.show()"
      ],
      "execution_count": null,
      "outputs": []
    },
    {
      "cell_type": "code",
      "metadata": {
        "id": "we_A7N8wYq0C"
      },
      "source": [
        "# Hacemos el clustering con k-means \n",
        "\n",
        "kmeans = KMeans(n_clusters=3, random_state=0)  # Creamos 3 clusters (por el método del codo)\n",
        "y = kmeans.fit_predict(X)  # Asignamos un cluster a cada muestra\n",
        "y  # Mostramos las etiquetas asignadas a cada muestra"
      ],
      "execution_count": null,
      "outputs": []
    },
    {
      "cell_type": "code",
      "metadata": {
        "id": "5OBJqL_RZIrw"
      },
      "source": [
        "# Visualización de los clusters\n",
        "\n",
        "sns.scatterplot(x=X[y == 0, 2], y=X[y == 0, 3])\n",
        "sns.scatterplot(x=X[y == 1, 2], y=X[y == 1, 3])\n",
        "sns.scatterplot(x=X[y == 2, 2], y=X[y == 2, 3])\n",
        "\n",
        "# Mostramos los centroides de los clusters\n",
        "sns.scatterplot(x=kmeans.cluster_centers_[:, 2], y=kmeans.cluster_centers_[:,3], s=100, label = 'Centroides')\n",
        "\n",
        "plt.legend(bbox_to_anchor=(1.01, 1.01), loc=2)\n",
        "\n",
        "plt.show()"
      ],
      "execution_count": null,
      "outputs": []
    },
    {
      "cell_type": "markdown",
      "metadata": {
        "id": "VaJo_0DlZSIO"
      },
      "source": [
        "# Referencias\n",
        "\n",
        "* [Iris dataset](https://archive.ics.uci.edu/ml/datasets/iris)"
      ]
    }
  ]
}