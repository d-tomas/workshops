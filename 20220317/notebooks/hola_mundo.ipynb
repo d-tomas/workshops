{
  "nbformat": 4,
  "nbformat_minor": 0,
  "metadata": {
    "colab": {
      "name": "hola_mundo.ipynb",
      "provenance": [],
      "collapsed_sections": [],
      "toc_visible": true,
      "authorship_tag": "ABX9TyN8ygLQ+R4UU31awi8g+YY0",
      "include_colab_link": true
    },
    "kernelspec": {
      "name": "python3",
      "display_name": "Python 3"
    }
  },
  "cells": [
    {
      "cell_type": "markdown",
      "metadata": {
        "id": "view-in-github",
        "colab_type": "text"
      },
      "source": [
        "<a href=\"https://colab.research.google.com/github/d-tomas/workshops/blob/main/20220317/notebooks/hola_mundo.ipynb\" target=\"_parent\"><img src=\"https://colab.research.google.com/assets/colab-badge.svg\" alt=\"Open In Colab\"/></a>"
      ]
    },
    {
      "cell_type": "markdown",
      "metadata": {
        "id": "-rlAdkuBWRoQ"
      },
      "source": [
        "# ¡Hola, mundo!"
      ]
    },
    {
      "cell_type": "markdown",
      "metadata": {
        "id": "A-GtbomGAY9l"
      },
      "source": [
        "Este *notebook* muetra una introducción a los conceptos básicos de Gooble Colab.\n",
        "\n",
        "En Colab tenemos **celdas de texto** (como ésta) y **celdas de código**:\n",
        "\n",
        "* Las celdas de texto permiten añadir notas y documentar tu código. Siguen el formato *Markdown* (mu sencillito)\n",
        "* Las celdas de código permiten ejecutar código en Python en el servidor remoto\n",
        "\n",
        "Tienes que hacer clic en `Conectar`, en la esquina superior derecha, para que Google te asigne un servidor remoto y poder ejecutar tu código. Para ejecutar código, simplemente haz clic en el botón `Ejecutar celda` que aparece a la izquierda de la celda de código cuando pasas el ratón por encima (ese ese círculo gris que parece el símbolo de *play*)."
      ]
    },
    {
      "cell_type": "code",
      "metadata": {
        "id": "lnEezsdmAU9g"
      },
      "source": [
        "# Ésta es una celda de código en Python\n",
        "# Venga, que toca un ¡Hola, mundo!\n",
        "\n",
        "print('¡Hola, mundo!')"
      ],
      "execution_count": null,
      "outputs": []
    },
    {
      "cell_type": "markdown",
      "metadata": {
        "id": "mYXste_ugRlj"
      },
      "source": [
        "## Interactuando con el *shell*"
      ]
    },
    {
      "cell_type": "markdown",
      "metadata": {
        "id": "-wVVsOd4CtDr"
      },
      "source": [
        "Podemos ejecutar comandos en el servidor remoto como si abriéramos un terminal de línea de comandos en él. Los servidores trabajan con sistema Linux. Para ejecutar estos comandos, en las celdas de código debemos poner el símbolo de cierre de exclamación (`!`) y detrás el comando que queramos ejecutar."
      ]
    },
    {
      "cell_type": "code",
      "metadata": {
        "id": "yJH_KoOfgpdW"
      },
      "source": [
        "# 'uname' nos muestra información sobre el sisetma opeartivo que hay en el servidor remoto al que estamos conectados\n",
        "\n",
        "!uname -a"
      ],
      "execution_count": null,
      "outputs": []
    },
    {
      "cell_type": "code",
      "metadata": {
        "id": "UkR8_qMsnqQW"
      },
      "source": [
        "# Otro ejemplo: vamos a ver la versión de Python que hay instalada en el servidor remoto\n",
        "\n",
        "!python --version"
      ],
      "execution_count": null,
      "outputs": []
    },
    {
      "cell_type": "code",
      "metadata": {
        "id": "Inuf-nOynulF"
      },
      "source": [
        "# Muy interesante, poder instalar nuevas librerías de Python que no vengan por defecto en el servidor remoto\n",
        "# El comando 'pip' es el más cómodo para instalar nuevas librerías en Python\n",
        "\n",
        "!pip install python-Levenshtein  # Instalamos la librería python-Levenshtein"
      ],
      "execution_count": null,
      "outputs": []
    },
    {
      "cell_type": "markdown",
      "metadata": {
        "id": "w9cqpvxk1QBZ"
      },
      "source": [
        "## Acceso a ficheros"
      ]
    },
    {
      "cell_type": "markdown",
      "metadata": {
        "id": "x-6-gEkvD3ym"
      },
      "source": [
        "Podemos subir y descargar ficheros del servidor remoto que nos asigna Colab durante la sesión de trabajo.\n",
        "\n",
        "**Problema**: cuando nos desconectamos del servidor, todo lo que hubiera en él se pierde. La próxima vez que nos conectemos se nos asignará otro servidor diferente, donde no habrá nada de la sesión anterior (tampoco las librerías que hubiéramos instalado).\n",
        "\n",
        "Por suerte, podemos descargar ficheros del servidor que queramos conservar y luego volver a subirlos al nuevo servidor. Mejor aún, podemos conectar el servidor remoto con nuestro **Google Drive**, de manera que tengamos los datos con los que queramos trabajar en una carpeta de Drive y no se pierdan al acabar la sesión."
      ]
    },
    {
      "cell_type": "markdown",
      "metadata": {
        "id": "nyCz9v8ks_f8"
      },
      "source": [
        "### Drive"
      ]
    },
    {
      "cell_type": "code",
      "metadata": {
        "id": "dEgRVoR5s0rF"
      },
      "source": [
        "# Vamos a conectarnos a Drive. Te pedirá permiso para acceder a tu cuenta. Dile que sí, con confianza\n",
        "# Esto también se puede hacer con el botón 'Activar Drive' de la pestaña de archivos\n",
        "# ¡¡Ojo si borras archivos de Drive desde Colab, que se borran de verdad!!\n",
        "\n",
        "from google.colab import drive  # Librería de Python para trabajar con Drive desde Colab\n",
        "\n",
        "drive.mount('./drive')  # Se crea una carpeta llamada 'drive' en el servidor, donde está el contenido de nuestro Drive (todo, todo)"
      ],
      "execution_count": null,
      "outputs": []
    },
    {
      "cell_type": "markdown",
      "metadata": {
        "id": "fy6yC3fl1V5A"
      },
      "source": [
        "### Web"
      ]
    },
    {
      "cell_type": "code",
      "metadata": {
        "id": "f9YMzhKB1YqP"
      },
      "source": [
        "# Podemos usar 'wget' desde línea de comando para descargar ficheros en el servidor a partir de una URL\n",
        "\n",
        "!wget https://web.ua.es/secciones-ua/images/layout/logo-ua.jpg"
      ],
      "execution_count": null,
      "outputs": []
    },
    {
      "cell_type": "markdown",
      "metadata": {
        "id": "uozvWe0n1Y-f"
      },
      "source": [
        "### Fichero local\n"
      ]
    },
    {
      "cell_type": "code",
      "metadata": {
        "id": "O1jjE_Z7phm9"
      },
      "source": [
        "# Para manipular ficheros en nuestro ordenador hay que cargar la librería de Python para manejo de ficheros en Colab\n",
        "\n",
        "from google.colab import files"
      ],
      "execution_count": null,
      "outputs": []
    },
    {
      "cell_type": "code",
      "metadata": {
        "id": "TDdXRXXoeH5I"
      },
      "source": [
        "# Podemos subir al servidor remoto un fichero que esté en nuestro ordenador\n",
        "# También podemos usar el botón 'Carga de archivos' de la pestaña de archivos\n",
        "\n",
        "files.upload()"
      ],
      "execution_count": null,
      "outputs": []
    },
    {
      "cell_type": "code",
      "metadata": {
        "id": "JZUSyIgCp4bx"
      },
      "source": [
        "# Podemos descargar un fichero que esté en el servidor remoto en nuestro ordenador\n",
        "# También podemos seleccionar 'Descargar' en la pestaña de archivos\n",
        "\n",
        "files.download('logo-ua.jpg')"
      ],
      "execution_count": null,
      "outputs": []
    },
    {
      "cell_type": "markdown",
      "metadata": {
        "id": "tOdTPUoYq6M8"
      },
      "source": [
        "## Comandos mágicos"
      ]
    },
    {
      "cell_type": "markdown",
      "metadata": {
        "id": "E3-tmmWQXwzg"
      },
      "source": [
        "Los *comandos mágicos* son una serie de instrucciones especiales que nos facilitan la vida cuando trabajamos en *Colab*. Algunos de estos comandos actúan a nivel de **línea** y se invocan usando como prefijo el símbolo de porcentaje (`%`). Otros comandos actúan a nivel de **bloque** y se invocan usando como prefijo un doble símbolo de porcentaje (`%%`). Si quieres saber todos los comandos mágicos disponibles puedes usar `%lsmagic`."
      ]
    },
    {
      "cell_type": "code",
      "metadata": {
        "id": "nNObhiafd9l7"
      },
      "source": [
        "# Mostrar todos los comandos mágicos disponibles\n",
        "\n",
        "%lsmagic"
      ],
      "execution_count": null,
      "outputs": []
    },
    {
      "cell_type": "markdown",
      "metadata": {
        "id": "tAC71pBSdOYP"
      },
      "source": [
        "### Comandos de bloque"
      ]
    },
    {
      "cell_type": "code",
      "metadata": {
        "id": "Fe_PDFaofvnG"
      },
      "source": [
        "# Escribir el contenido de la celda a un fichero llamado 'countdown.py'\n",
        "\n",
        "%%writefile countdown.py\n",
        "for i in range(10, -1, -1):\n",
        "  print(i)"
      ],
      "execution_count": null,
      "outputs": []
    },
    {
      "cell_type": "code",
      "metadata": {
        "id": "w8928wFmehQ4"
      },
      "source": [
        "# Calcular el tiempo de ejcución de una celda. Tiene también opción de línea '%timeit'\n",
        "\n",
        "%%timeit\n",
        "for i in range(1, 5000000):\n",
        "  i**2"
      ],
      "execution_count": null,
      "outputs": []
    },
    {
      "cell_type": "code",
      "metadata": {
        "id": "wVQAT_LDsyWs"
      },
      "source": [
        "# Podemos insertar HTML en celdas de código con '%%html':\n",
        "\n",
        "%%html\n",
        "<iframe width=\"560\" height=\"315\" src=\"https://www.youtube.com/embed/1A-Nf3QIJjM\" frameborder=\"0\" allow=\"accelerometer; autoplay; clipboard-write; encrypted-media; gyroscope; picture-in-picture\" allowfullscreen></iframe>\n"
      ],
      "execution_count": null,
      "outputs": []
    },
    {
      "cell_type": "markdown",
      "metadata": {
        "id": "Dd3Jd1HkdCbf"
      },
      "source": [
        "### Comandos de línea"
      ]
    },
    {
      "cell_type": "code",
      "metadata": {
        "id": "loH7N6-Hh0BX"
      },
      "source": [
        "# Ejecutar un fichero de código\n",
        "\n",
        "%run countdown.py"
      ],
      "execution_count": null,
      "outputs": []
    },
    {
      "cell_type": "code",
      "metadata": {
        "id": "mR8t8dfLdyZq"
      },
      "source": [
        "# Mostrar todas las variables de entorno\n",
        "\n",
        "%env"
      ],
      "execution_count": null,
      "outputs": []
    },
    {
      "cell_type": "code",
      "metadata": {
        "id": "IczvdiGcfOoj"
      },
      "source": [
        "# Mostrar todas las variables interactivas del notebook\n",
        "\n",
        "a = 34\n",
        "b = 'hola'\n",
        "c = [3,4,6]\n",
        "\n",
        "%whos"
      ],
      "execution_count": null,
      "outputs": []
    },
    {
      "cell_type": "markdown",
      "metadata": {
        "id": "Br0v3FZ-qGMa"
      },
      "source": [
        "# Referencias\n",
        "\n",
        "* [¿Qué es Colaboratory?](https://colab.research.google.com/notebooks/intro.ipynb)\n",
        "* [Comandos mágicos](https://colab.research.google.com/github/jakevdp/PythonDataScienceHandbook/blob/master/notebooks/01.03-Magic-Commands.ipynb)\n"
      ]
    }
  ]
}