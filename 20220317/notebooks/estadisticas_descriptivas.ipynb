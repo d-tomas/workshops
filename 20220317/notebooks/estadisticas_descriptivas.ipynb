{
  "nbformat": 4,
  "nbformat_minor": 0,
  "metadata": {
    "colab": {
      "name": "estadisticas_descriptivas.ipynb",
      "provenance": [],
      "collapsed_sections": [],
      "toc_visible": true,
      "authorship_tag": "ABX9TyO8EfrWI1Sx9ZVvLhomY8tc",
      "include_colab_link": true
    },
    "kernelspec": {
      "name": "python3",
      "display_name": "Python 3"
    }
  },
  "cells": [
    {
      "cell_type": "markdown",
      "metadata": {
        "id": "view-in-github",
        "colab_type": "text"
      },
      "source": [
        "<a href=\"https://colab.research.google.com/github/d-tomas/workshops/blob/main/20220317/notebooks/estadisticas_descriptivas.ipynb\" target=\"_parent\"><img src=\"https://colab.research.google.com/assets/colab-badge.svg\" alt=\"Open In Colab\"/></a>"
      ]
    },
    {
      "cell_type": "markdown",
      "metadata": {
        "id": "m4QeCLc5ah2j"
      },
      "source": [
        "# Estadísticas descriptivas"
      ]
    },
    {
      "cell_type": "markdown",
      "metadata": {
        "id": "YFFf2EgJNLQT"
      },
      "source": [
        "En este *notebook* vamos a repasar algunos de los conceptos sobre estadísticas descriptivas: tendencial central y dispersión. Utilizaremos la librería Pandas de Python para manipular fácilmente tablas de datos y sacar estas estadísticas."
      ]
    },
    {
      "cell_type": "markdown",
      "metadata": {
        "id": "OnvcISE_c97V"
      },
      "source": [
        "## Pasos previos"
      ]
    },
    {
      "cell_type": "code",
      "metadata": {
        "id": "ZsKmX-5V49-2"
      },
      "source": [
        "# Importamos ls librería de Python que necesitaremos en este notebook\n",
        "\n",
        "import pandas as pd  # Pandas permite manipular tablas a lo bestia\n",
        "\n",
        "# Redondeamos las salidas a dos decimales\n",
        "%precision %.2f"
      ],
      "execution_count": null,
      "outputs": []
    },
    {
      "cell_type": "markdown",
      "metadata": {
        "id": "lySsq8wARNso"
      },
      "source": [
        "Vamos a trabajar con un conjunto de datos en formato CSV (valores separados por comas) que contiene estadísticas sobre ventas históricas de videojuegos. Cada fila contiene la siguiente información:\n",
        "\n",
        "* `Rank`: ranking de ventas totales\n",
        "* `Name`: nombre del videojuego\n",
        "* `Platform`: plataforma en la que se publicó el juego (e.g. PC, PS4, ...)\n",
        "* `Year`: año de publicación del juego\n",
        "* `Genre`: género (e.g. acción, aventuras, ...)\n",
        "* `Publisher`: compañía distribuidora\n",
        "* `NA_Sales`: ventas en Norte América (en millones de copias)\n",
        "* `EU_Sales`: ventas en Europa (en millones de copias)\n",
        "* `JP_Sales`: ventas en Japón (en millones de copias)\n",
        "* `Other_Sales`: ventas en el resto del mundo (en millones de copias)\n",
        "* `Global_Sales`: ventas mundiales totales (en millones de copias)"
      ]
    },
    {
      "cell_type": "code",
      "metadata": {
        "id": "ANO78ZDJcFUP"
      },
      "source": [
        "# Cargamos los datos en un DataFrame de Pandas en la variable 'data'\n",
        "# El ficheros tiene formato CSV\n",
        "\n",
        "data = pd.read_csv('https://raw.githubusercontent.com/d-tomas/workshops/main/20220317/datasets/video_game_sales.csv')\n",
        "data  # Al poner el nombre de la variable se muestra su contenido por pantalla"
      ],
      "execution_count": null,
      "outputs": []
    },
    {
      "cell_type": "markdown",
      "metadata": {
        "id": "WDUvCjwuVk-U"
      },
      "source": [
        "## Tendencia central"
      ]
    },
    {
      "cell_type": "code",
      "metadata": {
        "id": "rGxvqvfUp3S3"
      },
      "source": [
        "# Cuántos juegos hay de cada plataforma\n",
        "\n",
        "data['Platform'].value_counts()"
      ],
      "execution_count": null,
      "outputs": []
    },
    {
      "cell_type": "code",
      "metadata": {
        "id": "_bdL__a8dK0m"
      },
      "source": [
        "# Valor medio de número de copias de videojuegos vendidas a nivel mundial\n",
        "\n",
        "data['Global_Sales'].mean() * 1000000  # Multiplicamos por 1 millón"
      ],
      "execution_count": null,
      "outputs": []
    },
    {
      "cell_type": "code",
      "metadata": {
        "id": "UnbvM2aTdPTh"
      },
      "source": [
        "# Mediana de las copias de videojuegos vendidas a nivel mundial\n",
        "# Si ordenamos la lista de valores, la 'mediana' es el valor que queda justo en medio\n",
        "\n",
        "data['Global_Sales'].median() * 1000000"
      ],
      "execution_count": null,
      "outputs": []
    },
    {
      "cell_type": "code",
      "metadata": {
        "id": "utETQPaajX8f"
      },
      "source": [
        "# Moda de las copias de videojuegos vendidas a nivel mundial\n",
        "# La 'moda' es el valor que más se repite\n",
        "\n",
        "data['Global_Sales'].mode() * 1000000"
      ],
      "execution_count": null,
      "outputs": []
    },
    {
      "cell_type": "markdown",
      "metadata": {
        "id": "WA9jrsu2dZ6i"
      },
      "source": [
        "## Dispersión"
      ]
    },
    {
      "cell_type": "code",
      "metadata": {
        "id": "mD5sdBCNW0tn"
      },
      "source": [
        "# Valor mínimo de cada columna\n",
        "\n",
        "data.min()"
      ],
      "execution_count": null,
      "outputs": []
    },
    {
      "cell_type": "code",
      "metadata": {
        "id": "Cp6cAFaUW-Tq"
      },
      "source": [
        "# Juego con menos ventas globales\n",
        "# Con 'argmin' podemos obtener el índice donde está el valor mínimo de una columna\n",
        "\n",
        "data.iloc[data['Global_Sales'].argmin()]  # 'iloc' localiza un elemento por su índice"
      ],
      "execution_count": null,
      "outputs": []
    },
    {
      "cell_type": "code",
      "metadata": {
        "id": "_Zaw_kBpW5V0"
      },
      "source": [
        "# Valor máximo de cada columna\n",
        "\n",
        "data.max()"
      ],
      "execution_count": null,
      "outputs": []
    },
    {
      "cell_type": "code",
      "metadata": {
        "id": "4z9rXNh4Xsbi"
      },
      "source": [
        "# Juego con más ventas en Europa\n",
        "# Con 'argmax' podemos obtener el índice donde está el valor máximo de cada columna\n",
        "\n",
        "data.iloc[data['EU_Sales'].argmax()]"
      ],
      "execution_count": null,
      "outputs": []
    },
    {
      "cell_type": "code",
      "metadata": {
        "id": "vlLcqNd3IzSB"
      },
      "source": [
        "# Rango intercuartílico (IQR) de ventas globales\n",
        "# Nos indica la 'distancia' que hay enre el 50% de muestras que ocupan el centro de la distribución\n",
        "# Quitamos el 25% que menos ventas tiene (Q1) y el 25% que más ventas tiene (Q4)\n",
        "\n",
        "(data['Global_Sales'].quantile(0.75) - data['Global_Sales'].quantile(0.25)) * 1000000"
      ],
      "execution_count": null,
      "outputs": []
    },
    {
      "cell_type": "code",
      "metadata": {
        "id": "o_9WweowekuJ"
      },
      "source": [
        "# Desviación estándar de todas las columnas\n",
        "\n",
        "data.std()"
      ],
      "execution_count": null,
      "outputs": []
    },
    {
      "cell_type": "markdown",
      "metadata": {
        "id": "0MWhC6_75jNf"
      },
      "source": [
        "# Referencias\n",
        "\n",
        "* [Video Game Sales](https://www.kaggle.com/gregorut/videogamesales)"
      ]
    }
  ]
}