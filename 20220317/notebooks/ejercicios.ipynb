{
  "nbformat": 4,
  "nbformat_minor": 0,
  "metadata": {
    "colab": {
      "name": "ejercicios.ipynb",
      "private_outputs": true,
      "provenance": [],
      "collapsed_sections": [],
      "toc_visible": true,
      "authorship_tag": "ABX9TyMJbAaW1q4gJnFukGJfnV3S",
      "include_colab_link": true
    },
    "kernelspec": {
      "name": "python3",
      "display_name": "Python 3"
    }
  },
  "cells": [
    {
      "cell_type": "markdown",
      "metadata": {
        "id": "view-in-github",
        "colab_type": "text"
      },
      "source": [
        "<a href=\"https://colab.research.google.com/github/d-tomas/workshops/blob/main/20220317/notebooks/ejercicios.ipynb\" target=\"_parent\"><img src=\"https://colab.research.google.com/assets/colab-badge.svg\" alt=\"Open In Colab\"/></a>"
      ]
    },
    {
      "cell_type": "markdown",
      "metadata": {
        "id": "KbXiowksSNs3"
      },
      "source": [
        "# Películas de IMDb\n"
      ]
    },
    {
      "cell_type": "markdown",
      "metadata": {
        "id": "34RknDhXQ6LI"
      },
      "source": [
        "Vamos a poner en práctica las funciones que hemos visto de tendencia central, dispersión y visualización."
      ]
    },
    {
      "cell_type": "markdown",
      "metadata": {
        "id": "OnvcISE_c97V"
      },
      "source": [
        "## Pasos previos"
      ]
    },
    {
      "cell_type": "code",
      "metadata": {
        "id": "ZsKmX-5V49-2"
      },
      "source": [
        "# Importamos las librerías de Python necesarias\n",
        "\n",
        "import matplotlib.pyplot as plt\n",
        "import pandas as pd  # Pandas permite manipular tablas a lo bestia\n",
        "import seaborn as sns\n",
        "\n",
        "sns.set_style('whitegrid')  # Pone una malla de fondo bastante mona para Seaborn\n",
        "\n",
        "# Redondeamos las salidas a dos decimales\n",
        "%precision %.2f"
      ],
      "execution_count": null,
      "outputs": []
    },
    {
      "cell_type": "markdown",
      "metadata": {
        "id": "lySsq8wARNso"
      },
      "source": [
        "Vamos a trabajar con un conjunto de datos en formato CSV que contiene estadísticas sobre 85.855 películas de [IMDB](https://www.imdb.com/).\n",
        "\n",
        "Cada fila contiene la siguiente información:\n",
        "\n",
        "* `imdb_title_id`: identificador de IMDb\n",
        "* `title`: título de la película\n",
        "* `original_title`: título original (normalmente coincide con el campo `title`, pero no siempre)\n",
        "* `year`: año de estreno\n",
        "* `date_published`: fecha de estreno\n",
        "* `genre`: género\n",
        "* `duration`: duración (en minutos)\n",
        "* `country`: país de la película\n",
        "* `language`: idioma original\n",
        "* `director`: nombre del director/a\n",
        "* `writer`: nombre del/la guionista\n",
        "* `production_company`: nombre de la productora\n",
        "* `actors`: nombres de los actores principales, separados por comas\n",
        "* `description`: breve descripción del argumento\n",
        "* `avg_vote`: puntuación de los usuarios (de 0 a 10)\n",
        "* `votes`: número de votos recibidos\n",
        "* `budget`: presupuesto\n",
        "* `usa_gross_income`: recaudación en EE.UU.\n",
        "* `worlwide_gross_income`: recaudación a nivel mundial\n",
        "* `metascore`: puntuación de los críticos (de 0 a 100)\n",
        "* `reviews_from_users`: número de opiniones de los usuarios\n",
        "* `reviews_from_critics`: número de opiniones de los críticos\n"
      ]
    },
    {
      "cell_type": "code",
      "metadata": {
        "id": "-vuzvuWIIBE7"
      },
      "source": [
        "# Obtención del fichero CSV con los datos\n",
        "\n",
        "!wget https://github.com/d-tomas/workshops/raw/main/20220317/datasets/imdb.tgz\n",
        "!tar xvfz imdb.tgz\n",
        "!rm imdb.tgz"
      ],
      "execution_count": null,
      "outputs": []
    },
    {
      "cell_type": "code",
      "metadata": {
        "id": "kz4Q-kIkYrBi"
      },
      "source": [
        "# Cargamos los datos en formato CSV\n",
        "\n",
        "data = pd.read_csv('imdb.csv', index_col='imdb_title_id')\n",
        "data"
      ],
      "execution_count": null,
      "outputs": []
    },
    {
      "cell_type": "markdown",
      "metadata": {
        "id": "cC9hGBbEHar1"
      },
      "source": [
        "## Un poco de limpieza inicial"
      ]
    },
    {
      "cell_type": "code",
      "metadata": {
        "id": "665p0yIcuD8J"
      },
      "source": [
        "# Vamos a ver los tipos de datos de cada columna\n",
        "\n",
        "data.info()"
      ],
      "execution_count": null,
      "outputs": []
    },
    {
      "cell_type": "code",
      "metadata": {
        "id": "O7dp8qNmHdwg"
      },
      "source": [
        "# Renombra la columna 'worlwide_gross_income' como 'worldwide_gross_income'\n",
        "data.rename(columns={'worlwide_gross_income': 'worldwide_gross_income'}, inplace=True)\n",
        "\n",
        "# Transformar a valor numérico el año\n",
        "data['year'] = pd.to_numeric(data['year'], errors='coerce')\n",
        "\n",
        "# Transforma 'budget' a numérico\n",
        "data['budget'] = pd.to_numeric(data['budget'].str.split(' ').str[-1], errors='coerce')\n",
        "\n",
        "# Transforma 'usa_gross_income' a numérico\n",
        "data['usa_gross_income'] = pd.to_numeric(data['usa_gross_income'].str.split(' ').str[-1], errors='coerce')\n",
        "\n",
        "# Transforma 'worldwide_gross_income' a numérico\n",
        "data['worldwide_gross_income'] = pd.to_numeric(data['worldwide_gross_income'].str.split(' ').str[-1], errors='coerce')"
      ],
      "execution_count": null,
      "outputs": []
    },
    {
      "cell_type": "markdown",
      "metadata": {
        "id": "o2syHpAbZXfV"
      },
      "source": [
        "## Ejercicios"
      ]
    },
    {
      "cell_type": "markdown",
      "metadata": {
        "id": "hzVkzuq0gyql"
      },
      "source": [
        "**1.** ¿Cuánto dura (`duration`) la película más corta?"
      ]
    },
    {
      "cell_type": "code",
      "metadata": {
        "id": "IK7TfGBvZ7xC"
      },
      "source": [
        ""
      ],
      "execution_count": null,
      "outputs": []
    },
    {
      "cell_type": "markdown",
      "metadata": {
        "id": "UVoMunfMg45F"
      },
      "source": [
        "**2.** ¿Cuál es el título (`title`) de la película más larga (`duration`)?"
      ]
    },
    {
      "cell_type": "code",
      "metadata": {
        "id": "R_P1DAikaF-F"
      },
      "source": [
        ""
      ],
      "execution_count": null,
      "outputs": []
    },
    {
      "cell_type": "markdown",
      "metadata": {
        "id": "Sbf2hAf2hDCT"
      },
      "source": [
        "**3.** ¿Cuál es la puntuación media de los críticos (`metascore`) para todas las películas?"
      ]
    },
    {
      "cell_type": "code",
      "metadata": {
        "id": "XdhiCHCRaRnQ"
      },
      "source": [
        ""
      ],
      "execution_count": null,
      "outputs": []
    },
    {
      "cell_type": "markdown",
      "metadata": {
        "id": "imPn0t5mhHUF"
      },
      "source": [
        "**4.** ¿Y la puntuación media de los usuarios (`avg_vote`)?"
      ]
    },
    {
      "cell_type": "code",
      "metadata": {
        "id": "GIug2OcHatzF"
      },
      "source": [
        ""
      ],
      "execution_count": null,
      "outputs": []
    },
    {
      "cell_type": "markdown",
      "metadata": {
        "id": "p4lBdOsVhnxU"
      },
      "source": [
        "**5.** ¿Cuál es el rango intercuartil de la puntuación de los usuarios (`avg_vote`)?"
      ]
    },
    {
      "cell_type": "code",
      "metadata": {
        "id": "7uS-jR6-d-Ot"
      },
      "source": [
        ""
      ],
      "execution_count": null,
      "outputs": []
    },
    {
      "cell_type": "markdown",
      "metadata": {
        "id": "HtOtrtQFhZNy"
      },
      "source": [
        "**6.** ¿Cuántas películas han conseguido una puntuación de los usuarios (`avg_vote`) superior a 9?"
      ]
    },
    {
      "cell_type": "code",
      "metadata": {
        "id": "VVESbUh_b_pA"
      },
      "source": [
        ""
      ],
      "execution_count": null,
      "outputs": []
    },
    {
      "cell_type": "markdown",
      "metadata": {
        "id": "tNwGuw6ihVZg"
      },
      "source": [
        "**7.** ¿Qué director (`director`) ha dirigido más películas?"
      ]
    },
    {
      "cell_type": "code",
      "metadata": {
        "id": "XkyYSt61bH39"
      },
      "source": [
        ""
      ],
      "execution_count": null,
      "outputs": []
    },
    {
      "cell_type": "markdown",
      "metadata": {
        "id": "NPeISa-BhvUG"
      },
      "source": [
        "**8.** ¿Qué película tiene la puntuación más alta de los usuarios (`avg_vote`)?"
      ]
    },
    {
      "cell_type": "code",
      "metadata": {
        "id": "JgCVtKAaa6r-"
      },
      "source": [
        ""
      ],
      "execution_count": null,
      "outputs": []
    },
    {
      "cell_type": "markdown",
      "metadata": {
        "id": "i6HBHIsZqjTC"
      },
      "source": [
        "**9.** ¿Cuál es la desviación estándar de la puntuación de los críticos (`metascore`)?"
      ]
    },
    {
      "cell_type": "code",
      "metadata": {
        "id": "hVYGR0Kaqh76"
      },
      "source": [
        ""
      ],
      "execution_count": null,
      "outputs": []
    },
    {
      "cell_type": "markdown",
      "metadata": {
        "id": "-rPErU_Rqx1N"
      },
      "source": [
        "**10.** ¿Cuál es la desviación estándar de la puntuación (`avg_vote`) de los usuarios (multiplícala por 10 para estar en la misma escala que la de los críticos)?"
      ]
    },
    {
      "cell_type": "code",
      "metadata": {
        "id": "GP4rniIwqxIl"
      },
      "source": [
        ""
      ],
      "execution_count": null,
      "outputs": []
    },
    {
      "cell_type": "markdown",
      "metadata": {
        "id": "00pstGAFtRtH"
      },
      "source": [
        "**11.** ¿Cuántas películas hay de cada duración?"
      ]
    },
    {
      "cell_type": "code",
      "metadata": {
        "id": "wHS8QDYmtWSF"
      },
      "source": [
        ""
      ],
      "execution_count": null,
      "outputs": []
    },
    {
      "cell_type": "markdown",
      "metadata": {
        "id": "-NnJij6HuQL2"
      },
      "source": [
        "**12.** Muestra la correlación entre número de votos recibidos (`votes`), número de opiniones de los usuarios (`reviews_from_users`), número de opiniones de los críticos (`reviews_from_critics`), ingresos en USA (`usa_gross_income`) e ingresos mundiales (`worldwide_gross_income`)."
      ]
    },
    {
      "cell_type": "code",
      "metadata": {
        "id": "B_aY8PRpuS73"
      },
      "source": [
        ""
      ],
      "execution_count": null,
      "outputs": []
    },
    {
      "cell_type": "markdown",
      "metadata": {
        "id": "ObasQ2E2vLCu"
      },
      "source": [
        "**13.** Muestra los histogramas de la puntuación de los usuarios (`avg_vote`) y los críticos (`metascore`) superpuestos."
      ]
    },
    {
      "cell_type": "code",
      "metadata": {
        "id": "vPaWZ2GhvWf6"
      },
      "source": [
        ""
      ],
      "execution_count": null,
      "outputs": []
    },
    {
      "cell_type": "markdown",
      "metadata": {
        "id": "ZtHjoaU0y5dr"
      },
      "source": [
        "**14.** Correlación entre ingresos a nivel mundial (`worldwide_gross_income`) y puntuación de los usuarios (`avg_vote`)."
      ]
    },
    {
      "cell_type": "code",
      "metadata": {
        "id": "sUttWI0cuXbJ"
      },
      "source": [
        ""
      ],
      "execution_count": null,
      "outputs": []
    },
    {
      "cell_type": "markdown",
      "metadata": {
        "id": "8XF_O80aVUuU"
      },
      "source": [
        "# Referencias\n",
        "\n",
        "* [IMDb movies extensive dataset](https://www.kaggle.com/stefanoleone992/imdb-extensive-dataset)"
      ]
    }
  ]
}